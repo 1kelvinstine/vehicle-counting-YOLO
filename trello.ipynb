{
 "cells": [
  {
   "cell_type": "code",
   "execution_count": 1,
   "metadata": {},
   "outputs": [],
   "source": [
    "import cv2\n",
    "import numpy as np\n",
    "import matplotlib.pyplot as plt"
   ]
  },
  {
   "cell_type": "code",
   "execution_count": null,
   "metadata": {},
   "outputs": [],
   "source": [
    "# Initialize variables\n",
    "min_contour_width = 40\n",
    "min_contour_height = 40\n",
    "line_height = 550\n",
    "offset = 10\n",
    "matches = []\n",
    "vehicles = 0"
   ]
  },
  {
   "cell_type": "code",
   "execution_count": null,
   "metadata": {},
   "outputs": [],
   "source": [
    "# Initialize video capture (e.g., for a video file or webcam)\n",
    "cap = cv2.VideoCapture(\"Video.mp4\")  # Or 0 for webcam"
   ]
  },
  {
   "cell_type": "code",
   "execution_count": null,
   "metadata": {},
   "outputs": [],
   "source": [
    "# Read the first two frames\n",
    "ret, frame1 = cap.read()\n",
    "ret, frame2 = cap.read()"
   ]
  },
  {
   "cell_type": "code",
   "execution_count": null,
   "metadata": {},
   "outputs": [],
   "source": [
    "# Function to get centroid of contour\n",
    "def get_centrolid(x, y, w, h):\n",
    "    return (int(x + w / 2), int(y + h / 2))"
   ]
  },
  {
   "cell_type": "code",
   "execution_count": null,
   "metadata": {},
   "outputs": [],
   "source": [
    "\n",
    "\n",
    "while ret:\n",
    "    # Compute absolute difference between the frames\n",
    "    d = cv2.absdiff(frame1, frame2)\n",
    "    grey = cv2.cvtColor(d, cv2.COLOR_BGR2GRAY)\n",
    "    blur = cv2.GaussianBlur(grey, (5, 5), 0)\n",
    "    ret, th = cv2.threshold(blur, 20, 255, cv2.THRESH_BINARY)\n",
    "    \n",
    "    # Dilation and morphological closing to fill gaps\n",
    "    dilated = cv2.dilate(th, np.ones((3, 3)))\n",
    "    kernel = cv2.getStructuringElement(cv2.MORPH_ELLIPSE, (2, 2))\n",
    "    closing = cv2.morphologyEx(dilated, cv2.MORPH_CLOSE, kernel)\n",
    "    \n",
    "    # Find contours\n",
    "    contours, _ = cv2.findContours(closing, cv2.RETR_TREE, cv2.CHAIN_APPROX_SIMPLE)\n",
    "    \n",
    "    # Iterate over contours to find valid ones\n",
    "    for (i, c) in enumerate(contours):\n",
    "        (x, y, w, h) = cv2.boundingRect(c)\n",
    "        contour_valid = (w >= min_contour_width) and (h >= min_contour_height)\n",
    "\n",
    "        if not contour_valid:\n",
    "            continue\n",
    "        \n",
    "        # Draw bounding box\n",
    "        cv2.rectangle(frame1, (x-10, y-10), (x+w+10, y+h+10), (255, 0, 0), 2)\n",
    "        \n",
    "        # Draw line for counting vehicles\n",
    "        cv2.line(frame1, (0, line_height), (1200, line_height), (0, 255, 0), 2)\n",
    "        \n",
    "        # Get centroid of the contour\n",
    "        centroid = get_centrolid(x, y, w, h)\n",
    "        matches.append(centroid)\n",
    "        \n",
    "        # Draw centroid point\n",
    "        cv2.circle(frame1, centroid, 5, (0, 255, 0), -1)\n",
    "        \n",
    "        # Count vehicles crossing the line\n",
    "        for (x, y) in matches:\n",
    "            if y < (line_height + offset) and y > (line_height - offset):\n",
    "                vehicles += 1\n",
    "                matches.remove((x, y))\n",
    "    \n",
    "    # Put total vehicles detected text on frame\n",
    "    cv2.putText(frame1, \"Total Vehicle Detected: \" + str(vehicles), (10, 90), cv2.FONT_HERSHEY_SIMPLEX, 1,\n",
    "                (0, 170, 0), 2)\n",
    "\n",
    "    # Convert the frame to RGB for displaying in Jupyter\n",
    "    frame1_rgb = cv2.cvtColor(frame1, cv2.COLOR_BGR2RGB)\n",
    "    \n",
    "    # Display the image inline\n",
    "    plt.imshow(frame1_rgb)\n",
    "    plt.axis('off')  # Hide axes\n",
    "    plt.show()\n",
    "\n",
    "    # Update frames for the next iteration\n",
    "    frame1 = frame2\n",
    "    ret, frame2 = cap.read()\n",
    "\n",
    "cv2.destroyAllWindows()\n",
    "cap.release()"
   ]
  }
 ],
 "metadata": {
  "kernelspec": {
   "display_name": "Python 3",
   "language": "python",
   "name": "python3"
  },
  "language_info": {
   "codemirror_mode": {
    "name": "ipython",
    "version": 3
   },
   "file_extension": ".py",
   "mimetype": "text/x-python",
   "name": "python",
   "nbconvert_exporter": "python",
   "pygments_lexer": "ipython3",
   "version": "3.12.7"
  }
 },
 "nbformat": 4,
 "nbformat_minor": 2
}
